{
 "cells": [
  {
   "cell_type": "markdown",
   "metadata": {},
   "source": [
    "**This file is used to create the training set by Gaussian resampling. Furthermore, some simple tests were performed on the data set.**"
   ]
  },
  {
   "cell_type": "code",
   "execution_count": 1,
   "metadata": {},
   "outputs": [],
   "source": [
    "import os\n",
    "import numpy as np\n",
    "import numba as na\n",
    "import time"
   ]
  },
  {
   "cell_type": "code",
   "execution_count": 2,
   "metadata": {},
   "outputs": [],
   "source": [
    "loop_fn = na.prange\n",
    "#loop_fn = xrange"
   ]
  },
  {
   "cell_type": "code",
   "execution_count": 3,
   "metadata": {},
   "outputs": [
    {
     "name": "stdout",
     "output_type": "stream",
     "text": [
      "(65808,) 3578\n"
     ]
    }
   ],
   "source": [
    "data = np.load('/data/dell5/userdir/jyj/LAMOST/bstars_info.npy')\n",
    "print data.shape, (data['label']==1).sum()"
   ]
  },
  {
   "cell_type": "markdown",
   "metadata": {},
   "source": [
    "Select spectra by SNR and flux:\n",
    "- averaged SNR > 30\n",
    "- averaged 100<flux<15000"
   ]
  },
  {
   "cell_type": "code",
   "execution_count": 4,
   "metadata": {},
   "outputs": [
    {
     "name": "stdout",
     "output_type": "stream",
     "text": [
      "(62426,) 3390\n"
     ]
    }
   ],
   "source": [
    "bool1 = data['snr'].mean(axis=1) > 30\n",
    "bool2 = (100<data['flux'].mean(axis=1)) * (data['flux'].mean(axis=1)<15000)\n",
    "data = data[bool1*bool2]\n",
    "print data.shape, (data['label']==1).sum()"
   ]
  },
  {
   "cell_type": "code",
   "execution_count": 5,
   "metadata": {},
   "outputs": [],
   "source": [
    "@na.jit(nopython=True)\n",
    "def GaussKernel(x, mu=0., sigma=0.):\n",
    "# dwl = 1.38, so sigma should greater than 1.38 at least\n",
    "    return 1./np.sqrt(2*np.pi*sigma**2.)*np.exp((x-mu)**2./(2*sigma**2.))\n",
    "    \n",
    "@na.jit(nopython=True, parallel=True)\n",
    "def GaussSampling(x, flux, wl, sigma, Iv=None):\n",
    "    '''\n",
    "    Iv: inverse variance weight\n",
    "    wl: wave length\n",
    "    x: wanted wave length\n",
    "    '''\n",
    "    #if x[0] < 3700.+3.*sigma or x[-1] > 9100.-3.*sigma:\n",
    "    #    print 'selected wavelength should from %d to %d...' %(3700.+3.*sigma,9100.-3.*sigma)\n",
    "    #    exit()\n",
    "\n",
    "    flux_new = np.empty((x.shape[0]),dtype=np.float32)\n",
    "    flux_new[:] = 0.\n",
    "    for i in loop_fn(len(x)):\n",
    "        bool = (wl<(x[i]+3*sigma))*(wl>(x[i]-3*sigma))\n",
    "        flux_i = flux[bool]\n",
    "        wl_i = wl[bool]\n",
    "        w = GaussKernel(wl_i,x[i],sigma)\n",
    "        if Iv is not None:\n",
    "            Iv_i = Iv[bool]\n",
    "            value = np.sum(flux_i*w * Iv_i)/np.sum(w*Iv_i)\n",
    "        else:\n",
    "            value = np.sum(flux_i*w)/np.sum(w)\n",
    "        flux_new[i] = value\n",
    "    return flux_new\n",
    "\n",
    "def run_GS(data, sigma=3., Iv=None):\n",
    "    flux = data['flux'].astype(np.float64)\n",
    "    wl = data['wavelen'].astype(np.float64)\n",
    "    snr_mask = data['snr_mask_2']\n",
    "    wl_new = np.linspace(4000.,8800.,4000)\n",
    "    flux_new = np.zeros([flux.shape[0],wl_new.shape[0]],dtype=np.float64)\n",
    "    Iv = Iv*(1.-snr_mask)\n",
    "    if Iv is not None:\n",
    "        for i in xrange(flux.shape[0]):\n",
    "    #    for i in xrange(3):\n",
    "            flux_new[i] = GaussSampling(wl_new, flux[i], wl[i], sigma, Iv=Iv[i])\n",
    "    else:\n",
    "        for i in xrange(flux.shape[0]):\n",
    "            flux_new[i] = GaussSampling(wl_new, flux[i], wl[i], sigma, Iv=None)\n",
    "    return flux_new.astype(np.float32)\n",
    "    \n"
   ]
  },
  {
   "cell_type": "markdown",
   "metadata": {},
   "source": [
    "# resampling"
   ]
  },
  {
   "cell_type": "markdown",
   "metadata": {},
   "source": [
    "get inverse variance, and set zero for the data points whose flux is 0"
   ]
  },
  {
   "cell_type": "code",
   "execution_count": 6,
   "metadata": {},
   "outputs": [
    {
     "name": "stderr",
     "output_type": "stream",
     "text": [
      "/home/maotx/local/miniconda2/envs/tensorflow/lib/python2.7/site-packages/ipykernel_launcher.py:8: RuntimeWarning: divide by zero encountered in divide\n",
      "  \n",
      "/home/maotx/local/miniconda2/envs/tensorflow/lib/python2.7/site-packages/ipykernel_launcher.py:8: RuntimeWarning: invalid value encountered in divide\n",
      "  \n"
     ]
    }
   ],
   "source": [
    "flux = data['flux']\n",
    "wl = data['wavelen']\n",
    "snr_mask = data['snr_mask_2']\n",
    "# get inverse variance  \n",
    "bool_wl = wl==0\n",
    "bool_fl = flux==0\n",
    "bool_all = bool_wl + bool_fl\n",
    "Iv = data['snr']/flux\n",
    "Iv = Iv**2.\n",
    "Iv[bool_all]=0."
   ]
  },
  {
   "cell_type": "code",
   "execution_count": 7,
   "metadata": {},
   "outputs": [
    {
     "name": "stdout",
     "output_type": "stream",
     "text": [
      "Elapsed = 852.694607019\n"
     ]
    }
   ],
   "source": [
    "start = time.time()\n",
    "flnew = run_GS(data, sigma=3., Iv=Iv)\n",
    "end = time.time()\n",
    "print \"Elapsed = %s\" % (end - start)"
   ]
  },
  {
   "cell_type": "code",
   "execution_count": 8,
   "metadata": {},
   "outputs": [
    {
     "name": "stdout",
     "output_type": "stream",
     "text": [
      "float32\n",
      "(62426, 4000)\n",
      "[[ 676.20984  686.1009   696.4748  ... 1092.9575  1145.2988  1118.3804 ]\n",
      " [ 205.85031  235.80339  247.21407 ...  297.21252  303.10092  286.2816 ]\n",
      " [ 387.64288  409.35837  410.39627 ...  454.6292   476.92197  457.87656]\n",
      " ...\n",
      " [1681.6571  1656.8429  1715.0435  ...  799.54614  815.689    771.7062 ]\n",
      " [ 403.12048  415.01138  463.38678 ...  990.9399  1045.8002  1000.7337 ]\n",
      " [ 560.71216  530.4638   581.99426 ... 1072.6919  1125.651   1064.5552 ]]\n"
     ]
    }
   ],
   "source": [
    "print flnew.dtype\n",
    "print flnew.shape\n",
    "print flnew[:10]"
   ]
  },
  {
   "cell_type": "code",
   "execution_count": 9,
   "metadata": {},
   "outputs": [
    {
     "name": "stdout",
     "output_type": "stream",
     "text": [
      "61502 (62426,)\n"
     ]
    }
   ],
   "source": [
    "fl = flnew.copy()\n",
    "bool = (np.isnan(fl).sum(axis=1)==0)\n",
    "print bool.sum(), bool.shape\n",
    "fl = fl[bool]\n",
    "data_new = data[bool].copy()\n",
    "data_new['flux'] = fl"
   ]
  },
  {
   "cell_type": "code",
   "execution_count": 10,
   "metadata": {},
   "outputs": [],
   "source": [
    "np.save('/data/dell5/userdir/maotx/DSC/data/resample.npy',data_new)"
   ]
  },
  {
   "cell_type": "markdown",
   "metadata": {},
   "source": [
    "## check new flux"
   ]
  },
  {
   "cell_type": "code",
   "execution_count": 11,
   "metadata": {},
   "outputs": [],
   "source": [
    "import matplotlib.pyplot as plt\n",
    "data_test = np.load('/data/dell5/userdir/maotx/DSC/data/resample.npy')"
   ]
  },
  {
   "cell_type": "code",
   "execution_count": 12,
   "metadata": {},
   "outputs": [
    {
     "data": {
      "image/png": "[encoded data removed]",
      "text/plain": [
       "<Figure size 432x288 with 1 Axes>"
      ]
     },
     "metadata": {},
     "output_type": "display_data"
    },
    {
     "data": {
      "image/png": "[encoded data removed]",
      "text/plain": [
       "<Figure size 432x288 with 1 Axes>"
      ]
     },
     "metadata": {},
     "output_type": "display_data"
    },
    {
     "data": {
      "image/png": "[encoded data removed]",
      "text/plain": [
       "<Figure size 432x288 with 1 Axes>"
      ]
     },
     "metadata": {},
     "output_type": "display_data"
    }
   ],
   "source": [
    "wl_new = np.linspace(4000.,8800.,4000)\n",
    "for num in [2143,72,4921]:\n",
    "    ss = data[bool][num]\n",
    "    wl_s, flux_s = ss['wavelen'], ss['flux']\n",
    "    plt.plot(wl_new, data_test[num]['flux'], 'r-', label='resample_%d'%num)\n",
    "    plt.plot(wl_s[wl_s>0], flux_s[wl_s>0], 'k.', ms=1.5, label='origin_%d'%num)\n",
    "    plt.legend()\n",
    "    plt.show()"
   ]
  },
  {
   "cell_type": "markdown",
   "metadata": {},
   "source": [
    "# Create training, validation and test set, TFrecords format."
   ]
  },
  {
   "cell_type": "markdown",
   "metadata": {},
   "source": [
    "Seperate dataset for training, validation and test with fraction 0.8,0.1,0.1"
   ]
  },
  {
   "cell_type": "code",
   "execution_count": 13,
   "metadata": {},
   "outputs": [],
   "source": [
    "data_new = np.load('/data/dell5/userdir/maotx/DSC/data/resample.npy')"
   ]
  },
  {
   "cell_type": "code",
   "execution_count": 14,
   "metadata": {},
   "outputs": [
    {
     "name": "stdout",
     "output_type": "stream",
     "text": [
      "61502\n"
     ]
    }
   ],
   "source": [
    "frac = np.array([0.8,0.9,1.0])\n",
    "size = data_new.shape[0]\n",
    "print size"
   ]
  },
  {
   "cell_type": "code",
   "execution_count": 15,
   "metadata": {},
   "outputs": [],
   "source": [
    "random_ind = np.random.permutation(np.arange(size))\n",
    "ind_dataset = np.ceil(frac*size).astype(np.int32)\n",
    "train_dataset = data_new[random_ind[:ind_dataset[0]]]\n",
    "valid_dataset = data_new[random_ind[ind_dataset[0]:ind_dataset[1]]]\n",
    "test_dataset = data_new[random_ind[ind_dataset[1]:ind_dataset[2]]]"
   ]
  },
  {
   "cell_type": "code",
   "execution_count": 16,
   "metadata": {},
   "outputs": [
    {
     "name": "stdout",
     "output_type": "stream",
     "text": [
      "True\n",
      "0.800006503854\n",
      "0.0999967480732\n",
      "0.0999967480732\n",
      "[0 0 0 0 0 0 0 0 0 0 0 0 0 0 0 0 0 1 0 0 0 0 0 0 0 0 0 0 0 0 0 0 0 0 0 0 0\n",
      " 0 0 0]\n",
      "[0 0 0 0 0 0 0 0 0 0 0 0 0 0 0 0 0 0 0 0 0 0 0 0 0 0 0 0 0 0 0 0 0 1 0 1 0\n",
      " 0 0 0]\n",
      "[0 0 0 0 0 0 0 0 0 0 1 0 0 0 0 0 0 0 0 0 0 1 0 0 0 0 0 0 0 0 0 0 0 0 0 0 0\n",
      " 0 0 0]\n"
     ]
    }
   ],
   "source": [
    "print size == np.unique(random_ind).shape[0]\n",
    "print train_dataset.shape[0]/float(size)\n",
    "print valid_dataset.shape[0]/float(size)\n",
    "print test_dataset.shape[0]/float(size)\n",
    "print train_dataset['label'][:40]\n",
    "print valid_dataset['label'][:40]\n",
    "print test_dataset['label'][:40]"
   ]
  },
  {
   "cell_type": "markdown",
   "metadata": {},
   "source": [
    "### oversampling for training and validation sets:"
   ]
  },
  {
   "cell_type": "code",
   "execution_count": 17,
   "metadata": {},
   "outputs": [],
   "source": [
    "def oversampling(sample):\n",
    "    index = np.arange(sample.shape[0])\n",
    "    dstar_ind = index[sample['label']==1]\n",
    "    sstar_ind = index[sample['label']==0]\n",
    "    resample_ind = dstar_ind[np.random.randint(0, dstar_ind.shape[0]-1, sstar_ind.shape[0])]\n",
    "    ind_new = np.hstack([sstar_ind,resample_ind])\n",
    "    ind_new = ind_new[np.random.permutation(np.arange(ind_new.shape[0]))]\n",
    "    return ind_new"
   ]
  },
  {
   "cell_type": "code",
   "execution_count": 18,
   "metadata": {},
   "outputs": [],
   "source": [
    "reind = oversampling(train_dataset)\n",
    "train_dataset = train_dataset[reind]\n",
    "reind = oversampling(valid_dataset)\n",
    "valid_dataset = valid_dataset[reind]"
   ]
  },
  {
   "cell_type": "code",
   "execution_count": 19,
   "metadata": {},
   "outputs": [],
   "source": [
    "np.save('/data/dell5/userdir/maotx/DSC/data/training.npy', train_dataset)\n",
    "np.save('/data/dell5/userdir/maotx/DSC/data/test.npy', test_dataset)\n",
    "np.save('/data/dell5/userdir/maotx/DSC/data/valid.npy', valid_dataset)"
   ]
  },
  {
   "cell_type": "markdown",
   "metadata": {},
   "source": [
    "---\n",
    "## create TFrecord file:"
   ]
  },
  {
   "cell_type": "code",
   "execution_count": 20,
   "metadata": {},
   "outputs": [],
   "source": [
    "import os\n",
    "import numpy as np\n",
    "import tensorflow as tf"
   ]
  },
  {
   "cell_type": "markdown",
   "metadata": {},
   "source": [
    "Define corresponding data type."
   ]
  },
  {
   "cell_type": "code",
   "execution_count": 21,
   "metadata": {},
   "outputs": [],
   "source": [
    "def _int64_feature(value):\n",
    "    return tf.train.Feature(int64_list=tf.train.Int64List(value=[value]))\n",
    "\n",
    "def _bytes_feature(value):\n",
    "    return tf.train.Feature(bytes_list=tf.train.BytesList(value=[value]))\n",
    "\n",
    "def _float_feature(value):\n",
    "    return tf.train.Feature(float_list=tf.train.FloatList(value=value))"
   ]
  },
  {
   "cell_type": "markdown",
   "metadata": {},
   "source": [
    "Rewrite the following functions for different dataset."
   ]
  },
  {
   "cell_type": "code",
   "execution_count": 22,
   "metadata": {},
   "outputs": [],
   "source": [
    "def convert_to(data_set, Dir, name):\n",
    "    \"\"\"Converts a dataset to tfrecords.\"\"\"\n",
    "    features = data_set.features\n",
    "    labels = data_set.labels\n",
    "    num_examples = data_set.num_examples\n",
    "\n",
    "    if features.shape[0] != num_examples:\n",
    "        raise ValueError('Features size %d does not match label size %d.' %\n",
    "                         (features.shape[0], num_examples))\n",
    "\n",
    "    filename = os.path.join(Dir, name + '.tfrecords')\n",
    "    print('Writing', filename)\n",
    "    writer = tf.python_io.TFRecordWriter(filename)\n",
    "    for index in xrange(num_examples):\n",
    "        data_set.index = index\n",
    "        feature_raw = features[index].reshape(-1).tolist()\n",
    "        label_raw = labels[index].reshape(-1).tolist()\n",
    "        example = tf.train.Example(features=tf.train.Features(feature={\n",
    "            'index': _int64_feature(data_set.index),\n",
    "            'label_raw': _float_feature(label_raw),\n",
    "            'feature_raw': _float_feature(feature_raw)}))\n",
    "        writer.write(example.SerializeToString())\n",
    "    writer.close()"
   ]
  },
  {
   "cell_type": "code",
   "execution_count": 23,
   "metadata": {},
   "outputs": [],
   "source": [
    "def main(data, filename):\n",
    "    # Get the data.\n",
    "    class data_set():\n",
    "        pass\n",
    "    Len = data.shape[0]\n",
    "    features = data['flux']\n",
    "    labels = data['label'].reshape(-1,1)\n",
    "  \n",
    "    data_set.features = features\n",
    "    data_set.labels = labels\n",
    "    data_set.num_examples = Len\n",
    "\n",
    "    convert_to(data_set, Dir='/data/dell5/userdir/maotx/DSC/data', name=filename)"
   ]
  },
  {
   "cell_type": "markdown",
   "metadata": {},
   "source": [
    "Run the convert code."
   ]
  },
  {
   "cell_type": "code",
   "execution_count": 24,
   "metadata": {},
   "outputs": [
    {
     "name": "stdout",
     "output_type": "stream",
     "text": [
      "('Writing', '/data/dell5/userdir/maotx/DSC/data/training.tfrecords')\n",
      "('Writing', '/data/dell5/userdir/maotx/DSC/data/valid.tfrecords')\n",
      "('Writing', '/data/dell5/userdir/maotx/DSC/data/test.tfrecords')\n"
     ]
    }
   ],
   "source": [
    "main(train_dataset,'training')\n",
    "main(valid_dataset,'valid')\n",
    "main(test_dataset,'test')"
   ]
  },
  {
   "cell_type": "code",
   "execution_count": null,
   "metadata": {},
   "outputs": [],
   "source": []
  }
 ],
 "metadata": {
  "kernelspec": {
   "display_name": "Python 2",
   "language": "python",
   "name": "python2"
  },
  "language_info": {
   "codemirror_mode": {
    "name": "ipython",
    "version": 2
   },
   "file_extension": ".py",
   "mimetype": "text/x-python",
   "name": "python",
   "nbconvert_exporter": "python",
   "pygments_lexer": "ipython2",
   "version": "2.7.3"
  }
 },
 "nbformat": 4,
 "nbformat_minor": 2
}
