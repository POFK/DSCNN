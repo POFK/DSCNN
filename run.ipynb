{
 "cells": [
  {
   "cell_type": "markdown",
   "metadata": {},
   "source": [
    "## Model"
   ]
  },
  {
   "cell_type": "code",
   "execution_count": 1,
   "metadata": {},
   "outputs": [],
   "source": [
    "name = 'Res_204'\n",
    "batch_size = 128\n",
    "model_basename = 'ResNN3'\n",
    "train_steps = 20000\n",
    "import sys; sys.argv=['', \n",
    "                      '--log_dir', '/nfs/P100/DSC/log/%s'%name, \n",
    "                      '--model_dir', '/nfs/P100/DSC/model/%s'%name, \n",
    "                      '--batch_size', '%d'%batch_size,\n",
    "                      '--model_basename', model_basename,\n",
    "                      '--train_steps', '%d'%train_steps,\n",
    "                      '--learning_rate', '2e-4',\n",
    "                      '--Is_BN', 'True',\n",
    "                      '--weight_decay','1e-2',\n",
    "                     ];\n",
    "del sys\n",
    "import os\n",
    "os.environ['CUDA_VISIBLE_DEVICES'] = '3'"
   ]
  },
  {
   "cell_type": "code",
   "execution_count": 2,
   "metadata": {},
   "outputs": [
    {
     "name": "stderr",
     "output_type": "stream",
     "text": [
      "/home/mtx/local/anaconda2/envs/tf1.5/lib/python2.7/site-packages/h5py/__init__.py:36: FutureWarning: Conversion of the second argument of issubdtype from `float` to `np.floating` is deprecated. In future, it will be treated as `np.float64 == np.dtype(float).type`.\n",
      "  from ._conv import register_converters as _register_converters\n"
     ]
    }
   ],
   "source": [
    "import tensorflow as tf\n",
    "import numpy as np\n",
    "import matplotlib.pyplot as plt\n",
    "tf.logging.set_verbosity(tf.logging.INFO)"
   ]
  },
  {
   "cell_type": "code",
   "execution_count": 3,
   "metadata": {},
   "outputs": [],
   "source": [
    "from tftool.main import Main"
   ]
  },
  {
   "cell_type": "code",
   "execution_count": 4,
   "metadata": {},
   "outputs": [
    {
     "name": "stdout",
     "output_type": "stream",
     "text": [
      "INFO:tensorflow:(<class 'tftool.main.Main'>, <class 'tftool.Train.Train'>, <class 'tftool.Network.Model'>, <class 'tftool.InputPipeline.InputPipeline'>, <class 'tftool.Utils.Toolkit'>, <class 'tftool.Base.Base'>, <type 'object'>)\n",
      "Namespace(Is_BN=True, batch_size=128, learning_rate=0.0002, log_dir='/nfs/P100/DSC/log/Res_204', model_basename='ResNN3', model_dir='/nfs/P100/DSC/model/Res_204', train_steps=20000, weight_decay=0.01)\n"
     ]
    }
   ],
   "source": [
    "class RunWapper(Main):\n",
    "    def __init__(self, *args, **kwargs):\n",
    "        super(RunWapper, self).__init__(*args, **kwargs)\n",
    "    def __call__(self):\n",
    "        \"\"\"an example for constructing network model\"\"\"\n",
    "        self.train_filenames = [\"/nfs/P100/DSC/data/training.tfrecords\"]\n",
    "        self.valid_filenames = [\"/nfs/P100/DSC/data/valid.tfrecords\"]\n",
    "        self.Is_training = tf.placeholder(tf.bool,shape=[],name='is_train')\n",
    "        x, y_ = self.loaddata(shuffle=True)\n",
    "        net = self.inference(x, is_training=self.Is_training)\n",
    "        loss = self.Loss_fn(self, net=net, y_=y_)\n",
    "        train_op = self.optimizer(loss, gclip=1.0)\n",
    "        self.train(loss, train_op)                                  \n",
    "dsc = RunWapper()\n",
    "print dsc.FLAGS"
   ]
  },
  {
   "cell_type": "code",
   "execution_count": 5,
   "metadata": {},
   "outputs": [],
   "source": [
    "config = tf.ConfigProto(allow_soft_placement=True)\n",
    "gpu_options = tf.GPUOptions(per_process_gpu_memory_fraction=1.0)\n",
    "config.gpu_options.allow_growth = True\n",
    "dsc.opt = tf.train.AdamOptimizer\n",
    "#dsc.opt = tf.train.GradientDescentOptimizer\n",
    "dsc.Is_summary = True\n",
    "dsc.update_log_step =100\n",
    "dsc.save_per_steps = 1000\n",
    "dsc.print_log = False \n",
    "dsc.valid_size = 6144\n",
    "dsc.config = config"
   ]
  },
  {
   "cell_type": "markdown",
   "metadata": {},
   "source": [
    "### training"
   ]
  },
  {
   "cell_type": "code",
   "execution_count": null,
   "metadata": {},
   "outputs": [],
   "source": [
    "dsc()"
   ]
  },
  {
   "cell_type": "markdown",
   "metadata": {},
   "source": [
    "---\n",
    "## Evaluation"
   ]
  },
  {
   "cell_type": "code",
   "execution_count": 6,
   "metadata": {},
   "outputs": [],
   "source": [
    "data_test = np.load('/nfs/P100/DSC/data/test.npy')"
   ]
  },
  {
   "cell_type": "code",
   "execution_count": 7,
   "metadata": {},
   "outputs": [],
   "source": [
    "with open(os.path.join(dsc.FLAGS.model_dir,'checkpoint')) as f:\n",
    "    mid = f.readline().split('/')\n",
    "    mid = mid[-2]+'_'+mid[-1][:-2]"
   ]
  },
  {
   "cell_type": "code",
   "execution_count": 8,
   "metadata": {},
   "outputs": [
    {
     "name": "stdout",
     "output_type": "stream",
     "text": [
      "float32 (6150, 4000)\n",
      "int32 (6150,)\n",
      "INFO:tensorflow:loop number: 49\n",
      "INFO:tensorflow:Tensor(\"Placeholder:0\", shape=(?, 4000), dtype=float32)\n",
      "INFO:tensorflow:==========ResNet_sigmoid==========\n",
      "INFO:tensorflow:load variable from /nfs/P100/DSC/model/Res_204/ResNN3-34999\n",
      "INFO:tensorflow:Restoring parameters from /nfs/P100/DSC/model/Res_204/ResNN3-34999\n"
     ]
    },
    {
     "name": "stderr",
     "output_type": "stream",
     "text": [
      "100%|██████████| 49/49 [00:02<00:00, 18.94it/s]\n"
     ]
    }
   ],
   "source": [
    "data_test_mean = data_test['flux'].mean(axis=1)\n",
    "data_test['flux'] = data_test['flux'] - data_test_mean[:,None]*np.ones([data_test_mean.shape[0],4000])\n",
    "loss, prob = dsc.eval(data_test)"
   ]
  },
  {
   "cell_type": "code",
   "execution_count": 15,
   "metadata": {},
   "outputs": [
    {
     "name": "stdout",
     "output_type": "stream",
     "text": [
      "0.3644183\n",
      "| class | percentage | \n",
      "|-------|-------|\n",
      "| d -> d | 0.04260162601626016  | \n",
      "| s -> s | 0.8741463414634146  | \n",
      "| d -> s | 0.010731707317073172  | \n",
      "| s -> d | 0.07252032520325204  | \n"
     ]
    },
    {
     "data": {
      "image/png": "[encoded data removed]",
      "text/plain": [
       "<Figure size 432x288 with 1 Axes>"
      ]
     },
     "metadata": {
      "needs_background": "light"
     },
     "output_type": "display_data"
    },
    {
     "data": {
      "image/png": "[encoded data removed]",
      "text/plain": [
       "<Figure size 432x288 with 1 Axes>"
      ]
     },
     "metadata": {
      "needs_background": "light"
     },
     "output_type": "display_data"
    },
    {
     "data": {
      "image/png": "[encoded data removed]",
      "text/plain": [
       "<Figure size 432x288 with 1 Axes>"
      ]
     },
     "metadata": {
      "needs_background": "light"
     },
     "output_type": "display_data"
    }
   ],
   "source": [
    "print loss.mean()\n",
    "threshold_d = 0.5\n",
    "threshold_s = 0.4\n",
    "bool_gt = data_test['label']\n",
    "bool_es = (prob[:,1]>threshold_d) * (prob[:,0]<threshold_s)\n",
    "size_eval = data_test.shape[0]\n",
    "bool_dd = bool_gt*bool_es\n",
    "bool_ss = (1-bool_gt)*(1-bool_es)\n",
    "bool_ds = bool_gt*(1-bool_es)\n",
    "bool_sd = (1-bool_gt)*bool_es\n",
    "print '| class | percentage |', '\\n|-------|-------|'\n",
    "print '| d -> d |', np.sum(bool_dd)/float(size_eval), ' | ' # d -> d\n",
    "print '| s -> s |', np.sum(bool_ss)/float(size_eval), ' | '  # s -> s\n",
    "print '| d -> s |', np.sum(bool_ds)/float(size_eval), ' | '  # d -> s\n",
    "print '| s -> d |', np.sum(bool_sd)/float(size_eval), ' | '  # s -> d\n",
    "\n",
    "plt.plot(prob[bool_gt==0][:,0], prob[bool_gt==0][:,1], 'b.', label='single', alpha=0.1)\n",
    "plt.plot(prob[bool_gt==1][:,0], prob[bool_gt==1][:,1], 'r.', label='double', alpha=0.6)\n",
    "plt.xlabel('single')\n",
    "plt.ylabel('double')\n",
    "plt.legend()\n",
    "plt.show()\n",
    "\n",
    "plt.hist(prob[bool_gt==1][:,1], 50, normed=True, histtype='step', label='double star')\n",
    "plt.hist(prob[bool_gt==0][:,1], 50, normed=True, histtype='step', label='single star')\n",
    "plt.xlabel('probability of double star')\n",
    "plt.ylabel('PDF')\n",
    "plt.legend()\n",
    "plt.savefig('./test/%s_test.png'%(mid))\n",
    "plt.show()\n",
    "\n",
    "plt.hist(prob[bool_gt==1][:,0], 50, normed=True, histtype='step', label='double star')\n",
    "plt.hist(prob[bool_gt==0][:,0], 50, normed=True, histtype='step', label='single star')\n",
    "plt.xlabel('probability of single star')\n",
    "plt.ylabel('PDF')\n",
    "plt.legend()\n",
    "plt.savefig('./test/%s_test.png'%(mid))\n",
    "plt.show()"
   ]
  },
  {
   "cell_type": "markdown",
   "metadata": {},
   "source": [
    "#### **CNN_101** step 15000 loss=0.28170884\n",
    "![show](test/CNN_101_CNN-14999_test.png)\n",
    "\n",
    "| class | percentage | \n",
    "|-------|-------|\n",
    "| d -> d | 0.042926829268292686  | \n",
    "| s -> s | 0.8585365853658536  | \n",
    "| d -> s | 0.01040650406504065  | \n",
    "| s -> d | 0.08813008130081301  | \n",
    "\n",
    "#### **CNN_103** step 55000 loss=0.44368657(add l2)\n",
    "![show](test/CNN_103_CNN2-54999_test.png)\n",
    "\n",
    "| class | percentage | \n",
    "|-------|-------|\n",
    "| d -> d | 0.044227642276422764  | \n",
    "| s -> s | 0.8408130081300813  | \n",
    "| d -> s | 0.009105691056910569  | \n",
    "| s -> d | 0.10585365853658536  | \n",
    "\n",
    "#### **CNN_103** step 45000 loss=0.6191649(add l2)\n",
    "![show](test/CNN_103_CNN2-44999_test.png)\n",
    "\n",
    "| class | percentage | \n",
    "|-------|-------|\n",
    "| d -> d | 0.04796747967479675  | \n",
    "| s -> s | 0.7560975609756098  | \n",
    "| d -> s | 0.005365853658536586  | \n",
    "| s -> d | 0.19056910569105692  | "
   ]
  },
  {
   "cell_type": "markdown",
   "metadata": {},
   "source": [
    "- clean validation: remove repeated data points."
   ]
  },
  {
   "cell_type": "code",
   "execution_count": null,
   "metadata": {},
   "outputs": [],
   "source": [
    "with open(os.path.join(dsc.FLAGS.model_dir,'checkpoint')) as f:\n",
    "    mid = f.readline().split('/')\n",
    "    mid = mid[-2]+'_'+mid[-1][:-2]"
   ]
  },
  {
   "cell_type": "code",
   "execution_count": null,
   "metadata": {},
   "outputs": [],
   "source": [
    "data_valid = np.load('/nfs/P100/DSC/data/valid.npy')\n",
    "clean_inds = np.unique(data_valid['obsid'],return_index=True)[1]\n",
    "data_valid_cleaned = data_valid[clean_inds]"
   ]
  },
  {
   "cell_type": "code",
   "execution_count": null,
   "metadata": {},
   "outputs": [],
   "source": [
    "data_valid_mean = data_valid_cleaned['flux'].mean(axis=1)\n",
    "data_valid_cleaned['flux'] = data_valid_cleaned['flux'] - data_valid_mean[:,None]*np.ones([data_valid_mean.shape[0],4000])\n",
    "loss, prob = dsc.eval(data_valid_cleaned)"
   ]
  },
  {
   "cell_type": "code",
   "execution_count": null,
   "metadata": {},
   "outputs": [],
   "source": [
    "print loss.mean()\n",
    "threshold = 0.5\n",
    "bool_gt = data_valid_cleaned['label']\n",
    "bool_es = prob[:,1]>threshold\n",
    "size_eval = data_valid_cleaned.shape[0]\n",
    "bool_dd = bool_gt*bool_es\n",
    "bool_ss = (1-bool_gt)*(1-bool_es)\n",
    "bool_ds = bool_gt*(1-bool_es)\n",
    "bool_sd = (1-bool_gt)*bool_es\n",
    "print 'd -> d', np.sum(bool_dd)/float(size_eval)  # d -> d\n",
    "print 's -> s', np.sum(bool_ss)/float(size_eval)  # s -> s\n",
    "print 'd -> s', np.sum(bool_ds)/float(size_eval)  # d -> s\n",
    "print 's -> d', np.sum(bool_sd)/float(size_eval)  # s -> d\n",
    "plt.hist(prob[bool_gt==1][:,1], 50, normed=True, histtype='step', label='double star')\n",
    "plt.hist(prob[bool_gt==0][:,1], 50, normed=True, histtype='step', label='single star')\n",
    "plt.xlabel('probability of double star')\n",
    "plt.ylabel('PDF')\n",
    "plt.legend()\n",
    "plt.savefig('./test/%s_valid.png'%(mid))\n",
    "plt.show()"
   ]
  },
  {
   "cell_type": "code",
   "execution_count": null,
   "metadata": {},
   "outputs": [],
   "source": []
  }
 ],
 "metadata": {
  "kernelspec": {
   "display_name": "Python 2",
   "language": "python",
   "name": "python2"
  },
  "language_info": {
   "codemirror_mode": {
    "name": "ipython",
    "version": 2
   },
   "file_extension": ".py",
   "mimetype": "text/x-python",
   "name": "python",
   "nbconvert_exporter": "python",
   "pygments_lexer": "ipython2",
   "version": "2.7.15"
  }
 },
 "nbformat": 4,
 "nbformat_minor": 2
}
