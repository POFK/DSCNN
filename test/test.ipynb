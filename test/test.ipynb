{
 "cells": [
  {
   "cell_type": "code",
   "execution_count": 13,
   "metadata": {},
   "outputs": [],
   "source": [
    "import numpy as np\n",
    "import numba as nb"
   ]
  },
  {
   "cell_type": "code",
   "execution_count": 1,
   "metadata": {},
   "outputs": [],
   "source": [
    "from numba import jit, njit, prange\n",
    "import numpy as np\n",
    "import time"
   ]
  },
  {
   "cell_type": "code",
   "execution_count": 9,
   "metadata": {},
   "outputs": [],
   "source": [
    "x = np.arange(1000000000)\n",
    "\n",
    "@jit(nopython=True,parallel=True)\n",
    "def go_fast(a): # Function is compiled and runs in machine code\n",
    "    trace = 0\n",
    "    for i in prange(a.shape[0]):\n",
    "        trace += np.tanh(a[i])\n",
    "    return trace"
   ]
  },
  {
   "cell_type": "code",
   "execution_count": 11,
   "metadata": {},
   "outputs": [
    {
     "name": "stdout",
     "output_type": "stream",
     "text": [
      "Elapsed (with compilation) = 0.652194023132\n",
      "Elapsed (after compilation) = 0.56244301796\n"
     ]
    }
   ],
   "source": [
    "# DO NOT REPORT THIS... COMPILATION TIME IS INCLUDED IN THE EXECUTION TIME!\n",
    "start = time.time()\n",
    "go_fast(x)\n",
    "end = time.time()\n",
    "print(\"Elapsed (with compilation) = %s\" % (end - start))\n",
    "\n",
    "# NOW THE FUNCTION IS COMPILED, RE-TIME IT EXECUTING FROM CACHE\n",
    "start = time.time()\n",
    "go_fast(x)\n",
    "end = time.time()\n",
    "print(\"Elapsed (after compilation) = %s\" % (end - start))"
   ]
  },
  {
   "cell_type": "code",
   "execution_count": 4,
   "metadata": {},
   "outputs": [
    {
     "name": "stdout",
     "output_type": "stream",
     "text": [
      " \n",
      "================================================================================\n",
      " Parallel Accelerator Optimizing:  Function go_fast, <ipython-\n",
      "input-2-92b86c3583a1> (3)  \n",
      "================================================================================\n",
      "\n",
      "\n",
      "Parallel loop listing for  Function go_fast, <ipython-input-2-92b86c3583a1> (3) \n",
      "-------------------------------------------------------------------|loop #ID\n",
      "@njit(parallel=True)                                               | \n",
      "def go_fast(a): # Function is compiled and runs in machine code    | \n",
      "    trace = 0                                                      | \n",
      "    for i in prange(a.shape[0]):-----------------------------------| #0\n",
      "        trace += np.tanh(a[i])                                     | \n",
      "    return trace                                                   | \n",
      "--------------------------------- Fusing loops ---------------------------------\n",
      "Attempting fusion of parallel loops (combines loops with similar properties)...\n",
      "----------------------------- Before Optimisation ------------------------------\n",
      "--------------------------------------------------------------------------------\n",
      "------------------------------ After Optimisation ------------------------------\n",
      "Parallel structure is already optimal.\n",
      "--------------------------------------------------------------------------------\n",
      "--------------------------------------------------------------------------------\n",
      " \n",
      "---------------------------Loop invariant code motion---------------------------\n",
      "\n",
      "Instruction hoisting:\n",
      "loop #0:\n",
      "  Failed to hoist the following:\n",
      "    dependency: $29.4 = getattr(attr=tanh, value=$29.3)\n",
      "    dependency: $29.7 = getitem(index=$parfor__index_3.314, value=a)\n",
      "    dependency: $29.8 = call $29.4($29.7, kws=[], args=[Var($29.7, <ipython-input-2-92b86c3583a1> (7))], func=$29.4, vararg=None)\n",
      "    dependency: $trace.328 = inplace_binop(static_rhs=Undefined, rhs=$29.8, immutable_fn=<built-in function add>, lhs=trace, static_lhs=Undefined, fn=<built-in function iadd>)\n",
      "    dependency: trace = $trace.328\n",
      "--------------------------------------------------------------------------------\n"
     ]
    }
   ],
   "source": [
    "go_fast.parallel_diagnostics(level=4)"
   ]
  },
  {
   "cell_type": "code",
   "execution_count": 21,
   "metadata": {},
   "outputs": [],
   "source": [
    "s = np.arange(12)\n",
    "s[3]=1"
   ]
  },
  {
   "cell_type": "code",
   "execution_count": 22,
   "metadata": {},
   "outputs": [
    {
     "data": {
      "text/plain": [
       "array([ 0,  8,  1,  6,  4,  5,  2,  1,  9, 11,  7, 10])"
      ]
     },
     "execution_count": 22,
     "metadata": {},
     "output_type": "execute_result"
    }
   ],
   "source": [
    "np.random.permutation(s)"
   ]
  },
  {
   "cell_type": "code",
   "execution_count": 24,
   "metadata": {},
   "outputs": [
    {
     "data": {
      "text/plain": [
       "array([ 0,  1,  2,  4,  5,  6,  7,  8,  9, 10, 11])"
      ]
     },
     "execution_count": 24,
     "metadata": {},
     "output_type": "execute_result"
    }
   ],
   "source": [
    "np.unique(s)"
   ]
  },
  {
   "cell_type": "code",
   "execution_count": null,
   "metadata": {},
   "outputs": [],
   "source": []
  }
 ],
 "metadata": {
  "kernelspec": {
   "display_name": "Python 2",
   "language": "python",
   "name": "python2"
  },
  "language_info": {
   "codemirror_mode": {
    "name": "ipython",
    "version": 2
   },
   "file_extension": ".py",
   "mimetype": "text/x-python",
   "name": "python",
   "nbconvert_exporter": "python",
   "pygments_lexer": "ipython2",
   "version": "2.7.3"
  }
 },
 "nbformat": 4,
 "nbformat_minor": 2
}
